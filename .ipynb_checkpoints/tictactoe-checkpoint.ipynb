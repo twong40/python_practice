{
 "cells": [
  {
   "cell_type": "code",
   "execution_count": 9,
   "metadata": {},
   "outputs": [
    {
     "name": "stdout",
     "output_type": "stream",
     "text": [
      " | | \n",
      "-----\n",
      " | | \n",
      "-----\n",
      " | | \n"
     ]
    }
   ],
   "source": [
    "#Print the board\n",
    "\n",
    "# from IPython.display import clear_output\n",
    "# clear_output()\n",
    "moves = [\"\",\" \",\" \",\" \",\" \",\" \",\" \",\" \",\" \",\" \"]\n",
    "def display_board(moves):\n",
    "    print(f\"{moves[7]}|{moves[8]}|{moves[9]}\\n-----\\n{moves[4]}|{moves[5]}|{moves[6]}\\n-----\\n{moves[1]}|{moves[2]}|{moves[3]}\")\n",
    "    \n",
    "display_board(moves)"
   ]
  },
  {
   "cell_type": "code",
   "execution_count": 15,
   "metadata": {},
   "outputs": [],
   "source": [
    "def set_player1():\n",
    "    return input(\"Player 1: Do you want to be 'X' or 'O'?\")"
   ]
  },
  {
   "cell_type": "code",
   "execution_count": null,
   "metadata": {},
   "outputs": [],
   "source": [
    "from IPython.display import clear_output\n",
    "def play_game():\n",
    "    moves = [\"\",\" \",\" \",\" \",\" \",\" \",\" \",\" \",\" \",\" \"]\n",
    "    player1 = input(\"Player 1: Do you want to be 'X' or 'O'?\")\n",
    "    player2 = \"O\" if player1 == \"X\" else \"X\"\n",
    "    "
   ]
  }
 ],
 "metadata": {
  "kernelspec": {
   "display_name": "Python 3",
   "language": "python",
   "name": "python3"
  },
  "language_info": {
   "codemirror_mode": {
    "name": "ipython",
    "version": 3
   },
   "file_extension": ".py",
   "mimetype": "text/x-python",
   "name": "python",
   "nbconvert_exporter": "python",
   "pygments_lexer": "ipython3",
   "version": "3.7.1"
  }
 },
 "nbformat": 4,
 "nbformat_minor": 2
}
