{
 "cells": [
  {
   "cell_type": "code",
   "execution_count": null,
   "metadata": {},
   "outputs": [],
   "source": [
    "import datetime\n",
    "\n",
    "class Appointment():\n",
    "    \n",
    "    def __init__(self, meeting_type, patient, doctor, timeframe):\n",
    "        self.meeting_type = meeting_type\n",
    "        self.patient = patient\n",
    "        self.doctor = doctor\n",
    "        self.timeframe = timeframe\n",
    "    \n",
    "    def __str__(self):\n",
    "        return(f\"Meeting type: {self.meeting_type} , Patient: {self.patient}, Doctor: {self.doctor}, Time: {self.timeframe[0]}-{self.timeframe[1]}\")"
   ]
  },
  {
   "cell_type": "code",
   "execution_count": null,
   "metadata": {},
   "outputs": [],
   "source": [
    "class Patient():\n",
    "\n",
    "    def __init__(self, name = \"Patient\"):\n",
    "        self.name = name\n",
    "        self.appointments = []\n",
    "        self.previous_appointments = []\n",
    "        \n",
    "    def __str__(self):\n",
    "        return f\"{self.name}\"\n",
    "    def add_appointment(self, appointment):\n",
    "        self.appointments.append(appointment)\n",
    "    \n",
    "    def complete_appointment(self, appointment):\n",
    "        if(appointment in self.appointments):\n",
    "            self.previous_appointments.append(appointment)\n",
    "            self.appointments.remove(appointment)\n",
    "    \n",
    "    def cancel_appointment(self, appointment):\n",
    "        if(appointment in self.appointments):\n",
    "            self.appointments.remove(appointment)\n",
    "    \n",
    "    def get_appointments(self):\n",
    "        print(f\"Appointment list for Patient: {self.name}\")\n",
    "        for app in self.appointments:\n",
    "            print(app)"
   ]
  },
  {
   "cell_type": "code",
   "execution_count": null,
   "metadata": {},
   "outputs": [],
   "source": [
    "class Doctor():\n",
    "    def __init__(self, name = \"Doctor\"):\n",
    "        self.name = name\n",
    "        self.appointments = []\n",
    "        self.unavailable = []\n",
    "        self.previous_appointments = []\n",
    "    \n",
    "    def __str__(self):\n",
    "        return f\"{self.name}\"\n",
    "    def add_appointment(self, appointment):\n",
    "        self.appointments.append(appointment)\n",
    "    \n",
    "    def complete_appointment(self, appointment):\n",
    "        if(appointment in self.appointments):\n",
    "            self.previous_appointments.append(appointment)\n",
    "            self.appointments.remove(appointment)\n",
    "    \n",
    "    def cancel_appointment(self, appointment):\n",
    "        if(appointment in self.appointments):\n",
    "            self.appointments.remove(appointment)\n",
    "            \n",
    "    def get_appointments(self):\n",
    "        print(f\"Appointment list for Doctor: {self.name}\")\n",
    "        for app in self.appointments:\n",
    "            print(app)"
   ]
  },
  {
   "cell_type": "code",
   "execution_count": 49,
   "metadata": {},
   "outputs": [],
   "source": [
    "class Schedule():\n",
    "    \n",
    "    def __init__(self):\n",
    "        self.sched = []\n",
    "    \n",
    "    def create_appointment(self,meeting_type, patient, doctor, timeframe):\n",
    "        appointment = Appointment(meeting_type, patient, doctor, timeframe)\n",
    "        patient.add_appointment(appointment)\n",
    "        doctor.add_appointment(appointment)\n",
    "        self.sched.append(appointment)\n",
    "    \n",
    "    def cancel_appointment(self, appointment):\n",
    "        if(appointment in self.sched):\n",
    "            appointment.patient.cancel_appointment(appointment)\n",
    "            appointment.doctor.cancel_appointment(appointment)\n",
    "            self.sched.remove(appointment)\n",
    "    def get_appointments(self):\n",
    "        print(\"List of appoints in the schedule: \")\n",
    "        for app in self.sched:\n",
    "            print(app)"
   ]
  },
  {
   "cell_type": "code",
   "execution_count": 50,
   "metadata": {},
   "outputs": [],
   "source": [
    "patients = [Patient(\"Bob\"), Patient(\"Tom\"), Patient(\"John\")]\n",
    "doctors = [Doctor(\"Jim\"), Doctor(\"Pam\"), Doctor(\"Sam\")]\n",
    "sched = Schedule()"
   ]
  },
  {
   "cell_type": "code",
   "execution_count": 55,
   "metadata": {
    "scrolled": true
   },
   "outputs": [
    {
     "name": "stdout",
     "output_type": "stream",
     "text": [
      "Would you like to schedule an appointment? O\n",
      "What type of appointment would you like: [Online] [Phone] [Office] Online\n",
      "Which patient is this for? O\n",
      "Patient not found! \n",
      "Which patient is this for? Tom\n",
      "Patient Selected: Tom\n",
      "Which doctor is this for? Sam\n",
      "Doctor selected: Sam\n",
      "What time would you like this appointment? Office appointments take an hour while phone and online appointments take half an hour. Please choose between 09:00 and 17:00 and increments of half hours! [HH:MM] 14:00\n",
      "Appointment created for Tom with Sam at Online at time 14:00:00 - 14:30:00\n",
      "Would you like to schedule an appointment? No\n"
     ]
    }
   ],
   "source": [
    "from IPython.display import clear_output\n",
    "def main():\n",
    "    while(True):\n",
    "        begin = input(\"Would you like to schedule an appointment? \")\n",
    "        if(begin == \"No\"):\n",
    "            break\n",
    "        choice = None\n",
    "        while(True):\n",
    "            choice = input(\"What type of appointment would you like: [Online] [Phone] [Office] \")\n",
    "            if(choice == \"Online\" or choice == \"Phone\" or choice == \"Office\"):\n",
    "                break\n",
    "            clear_output()\n",
    "            print(\"Not a valid option! \")\n",
    "        while(True):\n",
    "            person = input(\"Which patient is this for? \")\n",
    "            try:\n",
    "                patient = [p for p in patients if p.name == person]\n",
    "                if(patient):\n",
    "                    print(f\"Patient Selected: {patient[0]}\")\n",
    "                    break\n",
    "                else:\n",
    "                    print(\"Patient not found! \")\n",
    "            except:\n",
    "                print(\"Patient not found! \")\n",
    "        while(True):\n",
    "            doc = input(\"Which doctor is this for? \")\n",
    "            try:\n",
    "                doctor = [d for d in doctors if d.name == doc]\n",
    "                if(doctor):\n",
    "                    print(f\"Doctor selected: {doctor[0]}\")\n",
    "                    break\n",
    "                else:\n",
    "                    print(\"Doctor not found! \")\n",
    "            except:\n",
    "                print(\"Doctor not found! \")\n",
    "        while(True):\n",
    "            try:\n",
    "                time = input('''What time would you like this appointment? Office appointments take an hour while phone and online appointments take half an hour. Please choose between 09:00 and 17:00 and increments of half hours! [HH:MM] ''')\n",
    "                time = time.split(\":\")\n",
    "                if(len(time) == 2):\n",
    "                    start = datetime.time(int(time[0]), int(time[1]))\n",
    "                    if(choice == \"Office\"):\n",
    "                        endtime_h = int(time[0])+1\n",
    "                        endtime_m = int(time[1])\n",
    "                    else:\n",
    "                        endtime_h = int(time[0])+round((int(time[1])+30)/60)\n",
    "                        endtime_m = (int(time[1])+30)%60\n",
    "                    end = datetime.time(int(time[0])+1, int(time[1])) if choice == \"Office\" else datetime.time(endtime_h,endtime_m)\n",
    "                    break\n",
    "            except:\n",
    "                print(\"Incorrect format for time! \")\n",
    "        sched.create_appointment(choice, patient[0], doctor[0], (start,end))\n",
    "        print(f\"Appointment created for {patient[0]} with {doctor[0]} at {choice} at time {start} - {end}\")\n",
    "\n",
    "main()"
   ]
  },
  {
   "cell_type": "code",
   "execution_count": 56,
   "metadata": {},
   "outputs": [
    {
     "name": "stdout",
     "output_type": "stream",
     "text": [
      "List of appoints in the schedule: \n",
      "Meeting type: Office , Patient: Bob, Doctor: Jim, Time: 10:30:00-11:30:00\n",
      "Meeting type: Phone , Patient: Tom, Doctor: Pam, Time: 13:00:00-13:30:00\n",
      "Meeting type: Online , Patient: Tom, Doctor: Sam, Time: 14:00:00-14:30:00\n"
     ]
    }
   ],
   "source": [
    "sched.get_appointments()"
   ]
  },
  {
   "cell_type": "code",
   "execution_count": null,
   "metadata": {},
   "outputs": [],
   "source": []
  }
 ],
 "metadata": {
  "kernelspec": {
   "display_name": "Python 3",
   "language": "python",
   "name": "python3"
  },
  "language_info": {
   "codemirror_mode": {
    "name": "ipython",
    "version": 3
   },
   "file_extension": ".py",
   "mimetype": "text/x-python",
   "name": "python",
   "nbconvert_exporter": "python",
   "pygments_lexer": "ipython3",
   "version": "3.7.1"
  }
 },
 "nbformat": 4,
 "nbformat_minor": 2
}
