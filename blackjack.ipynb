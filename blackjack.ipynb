{
 "cells": [
  {
   "cell_type": "code",
   "execution_count": 3,
   "metadata": {},
   "outputs": [],
   "source": [
    "import random\n",
    "suits = ('Hearts', 'Diamonds', 'Spades', 'Clubs')\n",
    "ranks = ('Two', 'Three', 'Four', 'Five', 'Six', 'Seven', 'Eight', 'Nine', 'Ten', 'Jack', 'Queen', 'King', 'Ace')\n",
    "values = {'Two':2, 'Three':3, 'Four':4, 'Five':5, 'Six':6, 'Seven':7, 'Eight':8, 'Nine':9, 'Ten':10, 'Jack':10,\n",
    "         'Queen':10, 'King':10, 'Ace':11}\n",
    "\n",
    "playing = True"
   ]
  },
  {
   "cell_type": "code",
   "execution_count": 6,
   "metadata": {},
   "outputs": [],
   "source": [
    "class Card():\n",
    "    \n",
    "    def __init__(self, suit, rank):\n",
    "        self.suit = suit\n",
    "        self.rank = rank\n",
    "    \n",
    "    def __str__(self):\n",
    "        return f\"{self.rank} of {self.suit}\""
   ]
  },
  {
   "cell_type": "code",
   "execution_count": 30,
   "metadata": {},
   "outputs": [],
   "source": [
    "class Deck():\n",
    "    \n",
    "    def __init__(self):\n",
    "        self.deck = []\n",
    "        for suit in suits:\n",
    "            for rank in ranks:\n",
    "                card = Card(suit, rank)\n",
    "                self.deck.append(card)\n",
    "        random.shuffle(self.deck)\n",
    "    \n",
    "    def __str__(self):\n",
    "        for card in self.deck:\n",
    "            print(card)\n",
    "        return f\"Current Deck has {len(self.deck)} cards! \"\n",
    "    \n",
    "    def shuffle(self):\n",
    "        random.shuffle(self.deck)\n",
    "        \n",
    "    def deal(self):\n",
    "        pass"
   ]
  },
  {
   "cell_type": "code",
   "execution_count": 23,
   "metadata": {},
   "outputs": [],
   "source": [
    "# deck = Deck()\n",
    "# print(deck)"
   ]
  },
  {
   "cell_type": "code",
   "execution_count": 29,
   "metadata": {},
   "outputs": [],
   "source": [
    "class Hand():\n",
    "    \n",
    "    def __init__(self):\n",
    "        self.hand = []\n",
    "        self.value = 0\n",
    "        self.aces = 0\n",
    "    \n",
    "    def __str__(self):\n",
    "        for card in self.hand:\n",
    "            print(card)\n",
    "        return f\"The hand has {len(self.hand)} cards with a value of {self.value}. \"\n",
    "    \n",
    "    def add_card(self, card):\n",
    "        self.hand.append(card)\n",
    "    \n",
    "    def adjust_aces(self):\n",
    "        pass"
   ]
  },
  {
   "cell_type": "code",
   "execution_count": 28,
   "metadata": {},
   "outputs": [],
   "source": [
    "class Chips():\n",
    "    \n",
    "    def __init__(self):\n",
    "        self.total = 100\n",
    "        self.bet = 0\n",
    "    \n",
    "    def __str__(self):\n",
    "        return f\"A total of {self.total} chips with a bet of {self.bet}. \"\n",
    "    \n",
    "    def win_bet(self):\n",
    "        pass\n",
    "    \n",
    "    def loss_bet(self):\n",
    "        pass"
   ]
  },
  {
   "cell_type": "code",
   "execution_count": 31,
   "metadata": {},
   "outputs": [
    {
     "ename": "SyntaxError",
     "evalue": "unexpected EOF while parsing (<ipython-input-31-ed3d654b6f72>, line 1)",
     "output_type": "error",
     "traceback": [
      "\u001b[1;36m  File \u001b[1;32m\"<ipython-input-31-ed3d654b6f72>\"\u001b[1;36m, line \u001b[1;32m1\u001b[0m\n\u001b[1;33m    def take_bet(player):\u001b[0m\n\u001b[1;37m                         ^\u001b[0m\n\u001b[1;31mSyntaxError\u001b[0m\u001b[1;31m:\u001b[0m unexpected EOF while parsing\n"
     ]
    }
   ],
   "source": [
    "def take_bet(person):\n",
    "    while True:\n",
    "        try:\n",
    "            bet = input(\"Please enter amount of chips to bet: \")\n",
    "        except:\n",
    "            print(\"Value is not an integer amount! \")\n",
    "        else:\n",
    "            if(person.total < bet):\n",
    "                print(\"Value must be less than or equal to chips held\")"
   ]
  },
  {
   "cell_type": "code",
   "execution_count": null,
   "metadata": {},
   "outputs": [],
   "source": []
  }
 ],
 "metadata": {
  "kernelspec": {
   "display_name": "Python 3",
   "language": "python",
   "name": "python3"
  },
  "language_info": {
   "codemirror_mode": {
    "name": "ipython",
    "version": 3
   },
   "file_extension": ".py",
   "mimetype": "text/x-python",
   "name": "python",
   "nbconvert_exporter": "python",
   "pygments_lexer": "ipython3",
   "version": "3.7.1"
  }
 },
 "nbformat": 4,
 "nbformat_minor": 2
}
