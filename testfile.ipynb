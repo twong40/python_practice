{
 "cells": [
  {
   "cell_type": "code",
   "execution_count": 5,
   "metadata": {},
   "outputs": [
    {
     "data": {
      "text/plain": [
       "3.141592653589793"
      ]
     },
     "execution_count": 5,
     "metadata": {},
     "output_type": "execute_result"
    }
   ],
   "source": [
    "import math\n",
    "\n",
    "round(math.pi, 20)"
   ]
  },
  {
   "cell_type": "code",
   "execution_count": 14,
   "metadata": {},
   "outputs": [
    {
     "name": "stdout",
     "output_type": "stream",
     "text": [
      "after 2 seconds\n"
     ]
    }
   ],
   "source": [
    "import time\n",
    "time.sleep(2)\n",
    "print(\"after 2 seconds\")"
   ]
  },
  {
   "cell_type": "code",
   "execution_count": 21,
   "metadata": {},
   "outputs": [],
   "source": [
    "def alarm():\n",
    "    def alerted():\n",
    "        print(\"\\nXXXXXXXXXXX\\n\")\n",
    "    \n",
    "    def getInput():\n",
    "        try:\n",
    "            print(\"Please input time for alarm 'HH:MM:SS' \")\n",
    "            hours = int(input(\"Hours: \")) *360\n",
    "            minutes = int(input(\"Minutes: \")) * 60\n",
    "            seconds = int(input(\"Seconds: \"))\n",
    "            time.sleep(hours+minutes+seconds)\n",
    "            alerted()\n",
    "        except:\n",
    "            print(\"Incorrect format for input\")\n",
    "            \n",
    "    getInput()"
   ]
  },
  {
   "cell_type": "code",
   "execution_count": 31,
   "metadata": {},
   "outputs": [
    {
     "data": {
      "text/plain": [
       "False"
      ]
     },
     "execution_count": 31,
     "metadata": {},
     "output_type": "execute_result"
    }
   ],
   "source": [
    "def isPalindrone(val):\n",
    "    try:\n",
    "        new_val = val.lower()\n",
    "        return new_val == new_val[::-1]\n",
    "    except:\n",
    "        print(\"Must be a valid string\")\n",
    "isPalindrone(\"12p1\")"
   ]
  },
  {
   "cell_type": "code",
   "execution_count": 11,
   "metadata": {},
   "outputs": [
    {
     "data": {
      "text/plain": [
       "Counter({1: 4, 2: 1, 4: 1, 124: 1, 12: 2, 312: 1, 3: 1})"
      ]
     },
     "execution_count": 11,
     "metadata": {},
     "output_type": "execute_result"
    }
   ],
   "source": [
    "from collections import Counter\n",
    "\n",
    "l = [1,1,1,2,1,4,124,12,312,3,12]\n",
    "\n",
    "Counter(l)"
   ]
  },
  {
   "cell_type": "code",
   "execution_count": 36,
   "metadata": {},
   "outputs": [
    {
     "data": {
      "text/plain": [
       "Counter({'This': 1,\n",
       "         'is': 1,\n",
       "         'a': 1,\n",
       "         'test?': 1,\n",
       "         'Then': 1,\n",
       "         'this': 1,\n",
       "         'one': 1,\n",
       "         \"'ASF'.\": 1})"
      ]
     },
     "execution_count": 36,
     "metadata": {},
     "output_type": "execute_result"
    }
   ],
   "source": [
    "test = \"This is a test? Then this one 'ASF'.\"\n",
    "Counter(test.split(\" \"))"
   ]
  },
  {
   "cell_type": "code",
   "execution_count": 8,
   "metadata": {},
   "outputs": [
    {
     "data": {
      "text/plain": [
       "True"
      ]
     },
     "execution_count": 8,
     "metadata": {},
     "output_type": "execute_result"
    }
   ],
   "source": [
    "import re\n",
    "regex = re.compile(\"[^A-Za-z0-9]\")\n",
    "    \n",
    "def hasPattern(word, pattern):\n",
    "    return pattern.search(word) == None\n",
    "\n",
    "hasPattern(\"Word\", regex)"
   ]
  },
  {
   "cell_type": "code",
   "execution_count": 13,
   "metadata": {},
   "outputs": [
    {
     "data": {
      "text/plain": [
       "Counter({'string': 1, 'another': 1, 'Test': 1, 'asfmlmf': 1})"
      ]
     },
     "execution_count": 13,
     "metadata": {},
     "output_type": "execute_result"
    }
   ],
   "source": [
    "test = \"string! another Test!> >asfmlmf \"\n",
    "test.split(r'[`\\-=~!@#$%^&*()_+\\[\\]{};\\'\\\\:\"|<,./<>?]')\n",
    "Counter(re.findall(r\"[\\w']+\", test))"
   ]
  },
  {
   "cell_type": "code",
   "execution_count": null,
   "metadata": {},
   "outputs": [],
   "source": []
  }
 ],
 "metadata": {
  "kernelspec": {
   "display_name": "Python 3",
   "language": "python",
   "name": "python3"
  },
  "language_info": {
   "codemirror_mode": {
    "name": "ipython",
    "version": 3
   },
   "file_extension": ".py",
   "mimetype": "text/x-python",
   "name": "python",
   "nbconvert_exporter": "python",
   "pygments_lexer": "ipython3",
   "version": "3.7.1"
  }
 },
 "nbformat": 4,
 "nbformat_minor": 2
}
