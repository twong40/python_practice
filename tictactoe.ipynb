{
 "cells": [
  {
   "cell_type": "code",
   "execution_count": 1,
   "metadata": {},
   "outputs": [],
   "source": [
    "#Print the board\n",
    "\n",
    "# from IPython.display import clear_output\n",
    "# clear_output()\n",
    "board = [\"\",\" \",\" \",\" \",\" \",\" \",\" \",\" \",\" \",\" \"]\n",
    "def display_board(board):\n",
    "    print(f\"{board[7]}|{board[8]}|{board[9]}\\n-----\\n{board[4]}|{board[5]}|{board[6]}\\n-----\\n{board[1]}|{board[2]}|{board[3]}\")"
   ]
  },
  {
   "cell_type": "code",
   "execution_count": 2,
   "metadata": {},
   "outputs": [],
   "source": [
    "def set_player1():\n",
    "    return input(\"Player 1: Do you want to be 'X' or 'O'? \")"
   ]
  },
  {
   "cell_type": "code",
   "execution_count": 3,
   "metadata": {},
   "outputs": [],
   "source": [
    "def place_marker(board, player):\n",
    "    new_move = 0\n",
    "    while(new_move == 0):\n",
    "        move = int(input(f\"{player}'s turn to move, Choose a postion [1-9] \"))\n",
    "        if board[move] == \"X\" or board[move] == \"O\":\n",
    "            print(\"Position is already taken, please choose another!\")\n",
    "        else:\n",
    "            new_move = move\n",
    "            break\n",
    "    board[new_move] = player\n",
    "    return board"
   ]
  },
  {
   "cell_type": "code",
   "execution_count": 4,
   "metadata": {},
   "outputs": [],
   "source": [
    "def check_win(board):\n",
    "    if (board[1] != \" \") and ((board[1]==board[2]==board[3]) or (board[1]==board[4]==board[7])or (board[1]==board[5]==board[9])):\n",
    "        return board[1]\n",
    "    elif board[4] != \" \" and board[4]==board[5]==board[6]:\n",
    "        return board[4]\n",
    "    elif board[7] != \" \" and board[7]==board[8]==board[9]:\n",
    "        return board[7]\n",
    "    elif board[2] != \" \" and board[2]==board[5]==board[8]:\n",
    "        return board[2]\n",
    "    elif(board[3] != \" \") and ((board[3]==board[6]==board[9]) or (board[3]==board[5]==board[7])):\n",
    "        return board[3]\n",
    "    elif \" \" in board:\n",
    "        return \"Not Full\"\n",
    "    else:\n",
    "        return \"Draw\""
   ]
  },
  {
   "cell_type": "code",
   "execution_count": null,
   "metadata": {},
   "outputs": [
    {
     "name": "stdout",
     "output_type": "stream",
     "text": [
      "X|O|X\n",
      "-----\n",
      "X|O|O\n",
      "-----\n",
      "O|X|O\n",
      "Game ended in a draw!\n"
     ]
    }
   ],
   "source": [
    "from IPython.display import clear_output\n",
    "import random\n",
    "def play_game():\n",
    "    replay = True\n",
    "    while(replay):\n",
    "        clear_output()\n",
    "        board = [\"#\",\" \",\" \",\" \",\" \",\" \",\" \",\" \",\" \",\" \"]\n",
    "        player1 = set_player1()\n",
    "        first_move = \"X\" if random.randint(0,1) == 0 else \"O\"\n",
    "        second_move = \"O\" if first_move == \"X\" else \"X\"\n",
    "        display_board(board)\n",
    "        while(True):\n",
    "            board = place_marker(board,first_move)\n",
    "            clear_output()\n",
    "            display_board(board)\n",
    "            if(check_win(board) != \"Not Full\"):\n",
    "                break\n",
    "            board = place_marker(board, second_move)\n",
    "            clear_output()\n",
    "            display_board(board)\n",
    "            if(check_win(board) != \"Not Full\"):\n",
    "                break\n",
    "        winner = check_win(board)\n",
    "        if(winner == \"Draw\"):\n",
    "            print(\"Game ended in a draw!\")\n",
    "        else:\n",
    "            print(f\"{winner} has won the game\")\n",
    "        replay = True if input(\"Do you want to play again: 'Yes' or 'No'\") == \"Yes\" else False\n",
    "        \n",
    "play_game()   "
   ]
  },
  {
   "cell_type": "code",
   "execution_count": null,
   "metadata": {},
   "outputs": [],
   "source": []
  },
  {
   "cell_type": "code",
   "execution_count": null,
   "metadata": {},
   "outputs": [],
   "source": []
  },
  {
   "cell_type": "code",
   "execution_count": null,
   "metadata": {},
   "outputs": [],
   "source": []
  },
  {
   "cell_type": "code",
   "execution_count": null,
   "metadata": {},
   "outputs": [],
   "source": []
  }
 ],
 "metadata": {
  "kernelspec": {
   "display_name": "Python 3",
   "language": "python",
   "name": "python3"
  },
  "language_info": {
   "codemirror_mode": {
    "name": "ipython",
    "version": 3
   },
   "file_extension": ".py",
   "mimetype": "text/x-python",
   "name": "python",
   "nbconvert_exporter": "python",
   "pygments_lexer": "ipython3",
   "version": "3.7.1"
  }
 },
 "nbformat": 4,
 "nbformat_minor": 2
}
