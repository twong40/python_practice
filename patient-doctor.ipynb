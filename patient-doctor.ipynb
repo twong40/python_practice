{
 "cells": [
  {
   "cell_type": "code",
   "execution_count": 23,
   "metadata": {},
   "outputs": [],
   "source": [
    "class Appointment():\n",
    "    \n",
    "    def __init__(self, meeting_type, patient, doctor):\n",
    "        self.meeting_type = meeting_type\n",
    "        self.patient = patient\n",
    "        self.doctor = doctor\n",
    "    \n",
    "    def __str__(self):\n",
    "        return(f\"Meeting type: {self.meeting_type} , Patient: {self.patient}, Doctor: {self.doctor}\")"
   ]
  },
  {
   "cell_type": "code",
   "execution_count": 3,
   "metadata": {},
   "outputs": [],
   "source": [
    "class Patient():\n",
    "\n",
    "    def __init__(self, name = \"Patient\"):\n",
    "        self.name = name\n",
    "        self.appointments = []\n",
    "        self.previous_appointments = []\n",
    "        \n",
    "    def __str__(self):\n",
    "        return f\"{self.name}\"\n",
    "    def add_appointment(self, appointment):\n",
    "        self.appointments.append(appointment)\n",
    "    \n",
    "    def complete_appointment(self, appointment):\n",
    "        if(appointment in self.appointments):\n",
    "            self.previous_appointments.append(appointment)\n",
    "            self.appointments.remove(appointment)\n",
    "    \n",
    "    def cancel_appointment(self, appointment):\n",
    "        if(appointment in self.appointments):\n",
    "            self.appointments.remove(appointment)\n",
    "            \n",
    "    def get_appointments(self):\n",
    "        print(self.appointments)"
   ]
  },
  {
   "cell_type": "code",
   "execution_count": 4,
   "metadata": {},
   "outputs": [],
   "source": [
    "class Doctor():\n",
    "    def __init__(self, name = \"Doctor\"):\n",
    "        self.name = name\n",
    "        self.appointments = []\n",
    "        self.unavailable = []\n",
    "        self.previous_appointments = []\n",
    "    \n",
    "    def __str__(self):\n",
    "        return f\"{self.name}\"\n",
    "    def add_appointment(self, appointment):\n",
    "        self.appointments.append(appointment)\n",
    "    \n",
    "    def complete_appointment(self, appointment):\n",
    "        if(appointment in self.appointments):\n",
    "            self.previous_appointments.append(appointment)\n",
    "            self.appointments.remove(appointment)\n",
    "    \n",
    "    def cancel_appointment(self, appointment):\n",
    "        if(appointment in self.appointments):\n",
    "            self.appointments.remove(appointment)"
   ]
  },
  {
   "cell_type": "code",
   "execution_count": 5,
   "metadata": {},
   "outputs": [],
   "source": [
    "class Schedule():\n",
    "    \n",
    "    def __init__(self):\n",
    "        self.sched = []\n",
    "    \n",
    "    def create_appointment(self,meeting_type, patient, doctor):\n",
    "        appointment = Appointment(meeting_type, patient, doctor)\n",
    "        patient.add_appointment(appointment)\n",
    "        doctor.add_appointment(appointment)\n",
    "        self.sched.append(appointment)\n",
    "    \n",
    "    def cancel_appointment(self, appointment):\n",
    "        if(appointment in self.sched):\n",
    "            appointment.patient.cancel_appointment(appointment)\n",
    "            appointment.doctor.cancel_appointment(appointment)\n",
    "            self.sched.remove(appointment)"
   ]
  },
  {
   "cell_type": "code",
   "execution_count": 28,
   "metadata": {},
   "outputs": [],
   "source": [
    "patients = [Patient(\"Bob\"), Patient(\"Tom\"), Patient(\"John\")]\n",
    "doctors = [Doctor(\"Jim\"), Doctor(\"Pam\"), Doctor(\"Sam\")]\n",
    "sched = Schedule()"
   ]
  },
  {
   "cell_type": "code",
   "execution_count": 29,
   "metadata": {},
   "outputs": [
    {
     "name": "stdout",
     "output_type": "stream",
     "text": [
      "What type of appointment would you like: [Online] [Phone] [Office] Phone\n",
      "Which patient is this for? Tom\n",
      "Patient Selected: Tom\n",
      "Which doctor is this for? Sam\n",
      "Doctor selected: Sam\n",
      "Appointment created for Tom with Sam at Phone.\n"
     ]
    }
   ],
   "source": [
    "from IPython.display import clear_output\n",
    "def main():\n",
    "    choice = None\n",
    "    while(True):\n",
    "        choice = input(\"What type of appointment would you like: [Online] [Phone] [Office] \")\n",
    "        if(choice == \"Online\" or choice == \"Phone\" or choice == \"Office\"):\n",
    "            break\n",
    "        clear_output()\n",
    "        print(\"Not a valid option! \")\n",
    "    while(True):\n",
    "        person = input(\"Which patient is this for? \")\n",
    "        try:\n",
    "            patient = [p for p in patients if p.name == person]\n",
    "            if(patient):\n",
    "                print(f\"Patient Selected: {patient[0]}\")\n",
    "                break\n",
    "        except:\n",
    "            print(\"Name not found! \")\n",
    "    while(True):\n",
    "        doc = input(\"Which doctor is this for? \")\n",
    "        try:\n",
    "            doctor = [d for d in doctors if d.name == doc]\n",
    "            if(doctor):\n",
    "                print(f\"Doctor selected: {doctor[0]}\")\n",
    "                break\n",
    "        except:\n",
    "            print(\"Name not found! \")\n",
    "    sched.create_appointment(choice, patient[0], doctor[0])\n",
    "    print(f\"Appointment created for {patient[0]} with {doctor[0]} at {choice}.\")\n",
    "    \n",
    "main()"
   ]
  },
  {
   "cell_type": "code",
   "execution_count": 32,
   "metadata": {},
   "outputs": [
    {
     "name": "stdout",
     "output_type": "stream",
     "text": [
      "Meeting type: Phone , Patient: Tom, Doctor: Sam\n"
     ]
    }
   ],
   "source": [
    "for app in sched.sched:\n",
    "    print(app)"
   ]
  },
  {
   "cell_type": "code",
   "execution_count": null,
   "metadata": {},
   "outputs": [],
   "source": []
  }
 ],
 "metadata": {
  "kernelspec": {
   "display_name": "Python 3",
   "language": "python",
   "name": "python3"
  },
  "language_info": {
   "codemirror_mode": {
    "name": "ipython",
    "version": 3
   },
   "file_extension": ".py",
   "mimetype": "text/x-python",
   "name": "python",
   "nbconvert_exporter": "python",
   "pygments_lexer": "ipython3",
   "version": "3.7.1"
  }
 },
 "nbformat": 4,
 "nbformat_minor": 2
}
