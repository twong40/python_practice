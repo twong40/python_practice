{
 "cells": [
  {
   "cell_type": "code",
   "execution_count": 1,
   "metadata": {},
   "outputs": [],
   "source": [
    "import datetime\n",
    "\n",
    "class Appointment():\n",
    "    \n",
    "    def __init__(self, meeting_type, patient, doctor, timeframe):\n",
    "        self.meeting_type = meeting_type\n",
    "        self.patient = patient\n",
    "        self.doctor = doctor\n",
    "        self.timeframe = timeframe\n",
    "    \n",
    "    def __str__(self):\n",
    "        return(f\"Meeting type: {self.meeting_type} , Patient: {self.patient}, Doctor: {self.doctor}, Time: {self.timeframe[0]}-{self.timeframe[1]}\")"
   ]
  },
  {
   "cell_type": "code",
   "execution_count": 2,
   "metadata": {},
   "outputs": [],
   "source": [
    "class Patient():\n",
    "\n",
    "    def __init__(self, name = \"Patient\"):\n",
    "        self.name = name\n",
    "        self.appointments = []\n",
    "        self.previous_appointments = []\n",
    "        \n",
    "    def __str__(self):\n",
    "        return f\"{self.name}\"\n",
    "    def add_appointment(self, appointment):\n",
    "        self.appointments.append(appointment)\n",
    "    \n",
    "    def complete_appointment(self, appointment):\n",
    "        if(appointment in self.appointments):\n",
    "            self.previous_appointments.append(appointment)\n",
    "            self.appointments.remove(appointment)\n",
    "    \n",
    "    def cancel_appointment(self, appointment):\n",
    "        if(appointment in self.appointments):\n",
    "            self.appointments.remove(appointment)\n",
    "    \n",
    "    def get_appointments(self):\n",
    "        print(f\"Appointment list for Patient: {self.name}\")\n",
    "        for app in self.appointments:\n",
    "            print(app)"
   ]
  },
  {
   "cell_type": "code",
   "execution_count": 3,
   "metadata": {},
   "outputs": [],
   "source": [
    "class Doctor():\n",
    "    def __init__(self, name = \"Doctor\"):\n",
    "        self.name = name\n",
    "        self.appointments = []\n",
    "        self.unavailable = []\n",
    "        self.previous_appointments = []\n",
    "    \n",
    "    def __str__(self):\n",
    "        return f\"{self.name}\"\n",
    "    def add_appointment(self, appointment):\n",
    "        self.appointments.append(appointment)\n",
    "    \n",
    "    def complete_appointment(self, appointment):\n",
    "        if(appointment in self.appointments):\n",
    "            self.previous_appointments.append(appointment)\n",
    "            self.appointments.remove(appointment)\n",
    "    \n",
    "    def cancel_appointment(self, appointment):\n",
    "        if(appointment in self.appointments):\n",
    "            self.appointments.remove(appointment)\n",
    "            \n",
    "    def get_appointments(self):\n",
    "        print(f\"Appointment list for Doctor: {self.name}\")\n",
    "        for app in self.appointments:\n",
    "            print(app)"
   ]
  },
  {
   "cell_type": "code",
   "execution_count": 4,
   "metadata": {},
   "outputs": [],
   "source": [
    "class Schedule():\n",
    "    \n",
    "    def __init__(self):\n",
    "        self.sched = []\n",
    "    \n",
    "    def create_appointment(self,meeting_type, patient, doctor, timeframe):\n",
    "        appointment = Appointment(meeting_type, patient, doctor, timeframe)\n",
    "        patient.add_appointment(appointment)\n",
    "        doctor.add_appointment(appointment)\n",
    "        self.sched.append(appointment)\n",
    "        self.sched = sorted(self.sched, key = lambda t: t.timeframe[1])\n",
    "    \n",
    "    def cancel_appointment(self, appointment):\n",
    "        if(appointment in self.sched):\n",
    "            appointment.patient.cancel_appointment(appointment)\n",
    "            appointment.doctor.cancel_appointment(appointment)\n",
    "            self.sched.remove(appointment)\n",
    "    def get_appointments(self):\n",
    "        print(\"List of appoints in the schedule: \")\n",
    "        for app in self.sched:\n",
    "            print(app)\n",
    "            \n",
    "    def check_sched(self, timeframe):\n",
    "        for app in self.sched:\n",
    "            if(app.timeframe[0] == timeframe[0] or app.timeframe[1] == timeframe[0] or app.timeframe[0] == timeframe[1] or app.timeframe[1] == timeframe[1]):\n",
    "                return False\n",
    "        return True\n",
    "    \n",
    "    def clear_sched(self):\n",
    "        self.sched = []"
   ]
  },
  {
   "cell_type": "code",
   "execution_count": 5,
   "metadata": {},
   "outputs": [],
   "source": [
    "patients = [Patient(\"Bob\"), Patient(\"Tom\"), Patient(\"John\")]\n",
    "doctors = [Doctor(\"Jim\"), Doctor(\"Pam\"), Doctor(\"Sam\")]\n",
    "sched = Schedule()"
   ]
  },
  {
   "cell_type": "code",
   "execution_count": 6,
   "metadata": {},
   "outputs": [],
   "source": [
    "def create_appointment():\n",
    "    choice = None\n",
    "    while(True):\n",
    "        choice = input(\"What type of appointment would you like: [Online] [Phone] [Office] \").lower()\n",
    "        if(choice == \"online\" or choice == \"phone\" or choice == \"office\"):\n",
    "            break\n",
    "        print(\"Not a valid option! \")\n",
    "    while(True):\n",
    "        print(\"List of patients on record: \")\n",
    "        for patient in patients:\n",
    "            print(patient)\n",
    "        person = input(\"Which patient is this for? If patient not on record, please [Add] a new patient. \")\n",
    "        try:\n",
    "            if(person.lower() == \"add\"):\n",
    "                add_patient()\n",
    "            else:\n",
    "                patient = [p for p in patients if p.name == person]\n",
    "                if(patient):\n",
    "                    print(f\"Patient Selected: {patient[0]}\")\n",
    "                    break\n",
    "                else:\n",
    "                    print(\"Patient not found! \")\n",
    "        except:\n",
    "            print(\"Patient not found! \")\n",
    "    while(True):\n",
    "        print(\"List of available doctors on record\")\n",
    "        for doc in doctors:\n",
    "            print(doc)\n",
    "        doc = input(\"Which doctor is this for? \")\n",
    "        try:\n",
    "            doctor = [d for d in doctors if d.name == doc]\n",
    "            if(doctor):\n",
    "                print(f\"Doctor selected: {doctor[0]}\")\n",
    "                break\n",
    "            else:\n",
    "                print(\"Doctor not found! \")\n",
    "        except:\n",
    "            print(\"Doctor not found! \")\n",
    "    while(True):\n",
    "        try:\n",
    "            time = input('''What time would you like this appointment? Office appointments take an hour while phone and online appointments take half an hour. Please choose between 09:00 and 17:00 and increments of half hours! [HH:MM] ''')\n",
    "            time = time.split(\":\")\n",
    "            if(len(time) == 2 and 9<=int(time[0])<=17):\n",
    "                start = datetime.time(int(time[0]), int(time[1]))\n",
    "                if(choice == \"Office\"):\n",
    "                    endtime_h = int(time[0])+1\n",
    "                    endtime_m = int(time[1])\n",
    "                else:\n",
    "                    endtime_h = int(time[0])+round((int(time[1])+30)/60)\n",
    "                    endtime_m = (int(time[1])+30)%60\n",
    "                end = datetime.time(int(time[0])+1, int(time[1])) if choice == \"Office\" else datetime.time(endtime_h,endtime_m)\n",
    "                if(sched.check_sched((start,end))):\n",
    "                    break\n",
    "                else:\n",
    "                    print(\"Time slot not available! \")\n",
    "        except:\n",
    "            print(\"Incorrect format for time! \")\n",
    "    sched.create_appointment(choice, patient[0], doctor[0], (start,end))\n",
    "    print(f\"Appointment created for {patient[0]} with {doctor[0]} at {choice} at time {start} - {end}\")"
   ]
  },
  {
   "cell_type": "code",
   "execution_count": 7,
   "metadata": {},
   "outputs": [],
   "source": [
    "def clear_sched():\n",
    "    sched.clear_sched()\n",
    "    print(\"Schedule has been cleared\")"
   ]
  },
  {
   "cell_type": "code",
   "execution_count": 8,
   "metadata": {},
   "outputs": [],
   "source": [
    "def get_appointments():\n",
    "    sched.get_appointments()"
   ]
  },
  {
   "cell_type": "code",
   "execution_count": 9,
   "metadata": {},
   "outputs": [],
   "source": [
    "def add_patient():\n",
    "    new_patient = input(\"Name of the new patient: \")\n",
    "    patients.append(Patient(new_patient))\n",
    "    print(\"Patient has been added to record.\")"
   ]
  },
  {
   "cell_type": "code",
   "execution_count": 10,
   "metadata": {},
   "outputs": [],
   "source": [
    "def cancel_appointment():\n",
    "    for i, v in enumerate(sched.sched):\n",
    "        print(f\"[{i+1}] {v}\")\n",
    "    while(True):\n",
    "        try:\n",
    "            choice = int(input(\"Choose which appointment to cancel or [0] to go back. \"))\n",
    "            if(choice==0):\n",
    "                break\n",
    "            else:\n",
    "                print(f\"Appointment {choice} will be deleted.\")\n",
    "                sched.cancel_appointment(sched.sched[choice-1])\n",
    "                print(\"Appointment deleted! \")\n",
    "                break\n",
    "        except:\n",
    "            print(\"Not a valid option!\")"
   ]
  },
  {
   "cell_type": "code",
   "execution_count": 13,
   "metadata": {
    "scrolled": true
   },
   "outputs": [
    {
     "name": "stdout",
     "output_type": "stream",
     "text": [
      "Welcome to the Patient-Doctor Scheduler.\n",
      "Would you like to [Get] today's appointments, [Schedule] a new appointment, [Cancel] an appointment, [Add] a new patient, [Clear] today's schedule, or [Nothing]? get\n",
      "List of appoints in the schedule: \n",
      "Meeting type: online , Patient: Bob, Doctor: Jim, Time: 09:00:00-09:30:00\n",
      "Would you like to [Get] today's appointments, [Schedule] a new appointment, [Cancel] an appointment, [Add] a new patient, [Clear] today's schedule, or [Nothing]? nothing\n"
     ]
    }
   ],
   "source": [
    "from IPython.display import clear_output\n",
    "def main():\n",
    "    print(\"Welcome to the Patient-Doctor Scheduler.\")\n",
    "    while(True):\n",
    "        begin = input(\"Would you like to [Get] today's appointments, [Schedule] a new appointment, [Cancel] an appointment, [Add] a new patient, [Clear] today's schedule, or [Nothing]? \").lower()\n",
    "        if(begin == \"get\"):\n",
    "            get_appointments()\n",
    "        elif(begin == \"schedule\"):\n",
    "            create_appointment()\n",
    "        elif(begin == \"cancel\"):\n",
    "            cancel_appointment()\n",
    "        elif(begin == \"add\"):\n",
    "            add_patient()\n",
    "        elif(begin == \"clear\"):\n",
    "            clear_sched()\n",
    "        elif(begin == \"nothing\"):\n",
    "            break\n",
    "        else:\n",
    "            print(\"Not a valid option! \")\n",
    "main()"
   ]
  },
  {
   "cell_type": "code",
   "execution_count": null,
   "metadata": {},
   "outputs": [],
   "source": []
  },
  {
   "cell_type": "code",
   "execution_count": 12,
   "metadata": {},
   "outputs": [],
   "source": []
  },
  {
   "cell_type": "code",
   "execution_count": null,
   "metadata": {},
   "outputs": [],
   "source": []
  }
 ],
 "metadata": {
  "kernelspec": {
   "display_name": "Python 3",
   "language": "python",
   "name": "python3"
  },
  "language_info": {
   "codemirror_mode": {
    "name": "ipython",
    "version": 3
   },
   "file_extension": ".py",
   "mimetype": "text/x-python",
   "name": "python",
   "nbconvert_exporter": "python",
   "pygments_lexer": "ipython3",
   "version": "3.7.1"
  }
 },
 "nbformat": 4,
 "nbformat_minor": 2
}
